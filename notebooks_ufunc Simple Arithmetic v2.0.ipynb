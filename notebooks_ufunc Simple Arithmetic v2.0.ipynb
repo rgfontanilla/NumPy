{
  "metadata": {
    "language_info": {
      "codemirror_mode": {
        "name": "python",
        "version": 3
      },
      "file_extension": ".py",
      "mimetype": "text/x-python",
      "name": "python",
      "nbconvert_exporter": "python",
      "pygments_lexer": "ipython3",
      "version": "3.8"
    },
    "kernelspec": {
      "name": "python",
      "display_name": "Python (Pyodide)",
      "language": "python"
    }
  },
  "nbformat_minor": 4,
  "nbformat": 4,
  "cells": [
    {
      "cell_type": "code",
      "source": "# Addition\n# Add arguments element by element.\n\nimport numpy as np\n\nx = [10, 9, 8, 7, 6]\ny = [1, 2, 3, 4, 5]\nsample = [24, -37, -21, 1, 85, -94]\n",
      "metadata": {
        "trusted": true
      },
      "execution_count": 13,
      "outputs": []
    },
    {
      "cell_type": "code",
      "source": "# Substraction\n# Subtract arguments one by one.\n\nimport numpy as np\n\nx = [10, 9, 8, 7, 6]\ny = [1, 2, 3, 4, 5]\n\nadd = np.add(x, y)\nprint(\"This is the result for addition\", add)",
      "metadata": {
        "trusted": true
      },
      "execution_count": 15,
      "outputs": [
        {
          "name": "stdout",
          "text": "This is the result for addition [11 11 11 11 11]\n",
          "output_type": "stream"
        }
      ]
    },
    {
      "cell_type": "code",
      "source": "import numpy as np\n\nx = [10, 9, 8, 7, 6]\ny = [1, 2, 3, 4, 5]\n\nsub = np.subtract(x, y)\nprint(\"This is the result for substracting\", sub)",
      "metadata": {
        "trusted": true
      },
      "execution_count": 6,
      "outputs": [
        {
          "name": "stdout",
          "text": "This is the result for substracting [9 7 5 3 1]\n",
          "output_type": "stream"
        }
      ]
    },
    {
      "cell_type": "code",
      "source": "# Multiplication\n# Multiply arguments by their elements.\n\nimport numpy as np\n\nx = [10, 9, 8, 7, 6]\ny = [1, 2, 3, 4, 5]\n\nmult = np.multiply(x, y)\nprint(\"This is the result fo the multiplication:\", mult)\n",
      "metadata": {
        "trusted": true
      },
      "execution_count": 16,
      "outputs": [
        {
          "name": "stdout",
          "text": "This is the result fo the multiplication: [10 18 24 28 30]\n",
          "output_type": "stream"
        }
      ]
    },
    {
      "cell_type": "code",
      "source": "# Division\n# Divides the values of one array by the values of another array.\n\nimport numpy as np\n\nx = [10, 9, 8, 7, 6]\ny = [1, 2, 3, 4, 5]\n\ndiv = np.divide(x, y)\nprint(\"This is the result fo the division:\", div)",
      "metadata": {
        "trusted": true
      },
      "execution_count": 8,
      "outputs": [
        {
          "name": "stdout",
          "text": "This is the result fo the division: [10.          4.5         2.66666667  1.75        1.2       ]\n",
          "output_type": "stream"
        }
      ]
    },
    {
      "cell_type": "code",
      "source": "# Power\n# Elements of the first array were raised to the powers of the second array.\n\nimport numpy as np\n\nx = [10, 9, 8, 7, 6]\ny = [1, 2, 3, 4, 5]\n\npow = np.power(x, y)\nprint(\"This is the result fo the power:\", pow)",
      "metadata": {
        "trusted": true
      },
      "execution_count": 9,
      "outputs": [
        {
          "name": "stdout",
          "text": "This is the result fo the power: [  10   81  512 2401 7776]\n",
          "output_type": "stream"
        }
      ]
    },
    {
      "cell_type": "code",
      "source": "# Modulo or Remainder\n\nimport numpy as np\n\nx = [10, 9, 8, 7, 6]\ny = [1, 2, 3, 4, 5]\n\nmod = np.mod(x, y)\nprint(\"This is the result of the remainder:\", mod)",
      "metadata": {
        "trusted": true
      },
      "execution_count": 17,
      "outputs": [
        {
          "name": "stdout",
          "text": "This is the result of the remainder: [0 1 2 3 1]\n",
          "output_type": "stream"
        }
      ]
    },
    {
      "cell_type": "code",
      "source": "# Quotient and Mod\n# Return both the remainder and the quotient for each element. \n# The return value consists of two arrays, the first of which holds the quotient and the second of which holds the mod.\n\nimport numpy as np\n\nx = [10, 9, 8, 7, 6]\ny = [1, 2, 3, 4, 5]\n\nquod = np.divmod(x, y)\nprint(\"This is the result fo the quotient and mod\", quod)",
      "metadata": {
        "trusted": true
      },
      "execution_count": 18,
      "outputs": [
        {
          "name": "stdout",
          "text": "This is the result fo the quotient and mod (array([10,  4,  2,  1,  1]), array([0, 1, 2, 3, 1]))\n",
          "output_type": "stream"
        }
      ]
    },
    {
      "cell_type": "code",
      "source": "# Calculate the absolute value\n\nimport numpy as np\n\nsample = [24, -37, -21, 1, 85, -94]\n\nabsol = np.absolute(sample)\nprint(\"This is the result of the absolute values:\", absol)",
      "metadata": {
        "trusted": true
      },
      "execution_count": 19,
      "outputs": [
        {
          "name": "stdout",
          "text": "This is the result of the absolute values: [24 37 21  1 85 94]\n",
          "output_type": "stream"
        }
      ]
    },
    {
      "cell_type": "code",
      "source": "",
      "metadata": {},
      "execution_count": null,
      "outputs": []
    }
  ]
}