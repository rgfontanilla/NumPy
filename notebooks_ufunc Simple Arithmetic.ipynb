{
  "cells": [
    {
      "cell_type": "code",
      "execution_count": 28,
      "metadata": {
        "trusted": true
      },
      "outputs": [],
      "source": [
        "import numpy as np\n",
        "\n",
        "x = [10, 9, 8, 7, 6]\n",
        "y = [1, 2, 3, 4, 5]\n",
        "sample = [24, -37, -21, 1, 85, -94]\n",
        "\n"
      ]
    },
    {
      "cell_type": "code",
      "execution_count": 19,
      "metadata": {
        "trusted": true
      },
      "outputs": [
        {
          "name": "stdout",
          "output_type": "stream",
          "text": [
            "This is the result for addition [11 11 11 11 11]\n"
          ]
        }
      ],
      "source": [
        "# Addition\n",
        "# Add arguments element by element.\n",
        "\n",
        "add = np.add(x, y)\n",
        "print(\"This is the result for addition\", add)"
      ]
    },
    {
      "cell_type": "code",
      "execution_count": 3,
      "metadata": {
        "trusted": true
      },
      "outputs": [
        {
          "ename": "NameError",
          "evalue": "name 'np' is not defined",
          "output_type": "error",
          "traceback": [
            "\u001b[1;31m---------------------------------------------------------------------------\u001b[0m",
            "\u001b[1;31mNameError\u001b[0m                                 Traceback (most recent call last)",
            "Cell \u001b[1;32mIn [3], line 4\u001b[0m\n\u001b[0;32m      1\u001b[0m \u001b[39m# Substraction\u001b[39;00m\n\u001b[0;32m      2\u001b[0m \u001b[39m# Subtract arguments one by one.\u001b[39;00m\n\u001b[1;32m----> 4\u001b[0m sub \u001b[39m=\u001b[39m np\u001b[39m.\u001b[39msubtract(x, y)\n\u001b[0;32m      5\u001b[0m \u001b[39mprint\u001b[39m(\u001b[39m\"\u001b[39m\u001b[39mThis is the result for substracting\u001b[39m\u001b[39m\"\u001b[39m, sub)\n",
            "\u001b[1;31mNameError\u001b[0m: name 'np' is not defined"
          ]
        }
      ],
      "source": [
        "# Substraction\n",
        "# Subtract arguments one by one.\n",
        "\n",
        "sub = np.subtract(x, y)\n",
        "print(\"This is the result for substracting\", sub)"
      ]
    },
    {
      "cell_type": "code",
      "execution_count": 7,
      "metadata": {
        "trusted": true
      },
      "outputs": [
        {
          "name": "stdout",
          "output_type": "stream",
          "text": [
            "This is the result fo the multiplication: [10 18 24 28 30]\n"
          ]
        }
      ],
      "source": [
        "# Multiplication\n",
        "# Multiply arguments by their elements.\n",
        "\n",
        "\n",
        "mult = np.multiply(x, y)\n",
        "print(\"This is the result fo the multiplication:\", mult)"
      ]
    },
    {
      "cell_type": "code",
      "execution_count": 14,
      "metadata": {
        "trusted": true
      },
      "outputs": [
        {
          "name": "stdout",
          "output_type": "stream",
          "text": [
            "This is the result fo the division: [10.          4.5         2.66666667  1.75        1.2       ]\n"
          ]
        }
      ],
      "source": [
        "# Division\n",
        "# Divides the values of one array by the values of another array.\n",
        "\n",
        "div = np.divide(x, y)\n",
        "print(\"This is the result fo the division:\", div)"
      ]
    },
    {
      "cell_type": "code",
      "execution_count": 16,
      "metadata": {
        "trusted": true
      },
      "outputs": [
        {
          "name": "stdout",
          "output_type": "stream",
          "text": [
            "This is the result fo the power: [  10   81  512 2401 7776]\n"
          ]
        }
      ],
      "source": [
        "# Power\n",
        "# Elements of the first array were raised to the powers of the second array.\n",
        "\n",
        "pow = np.power(x, y)\n",
        "print(\"This is the result fo the power:\", pow)"
      ]
    },
    {
      "cell_type": "code",
      "execution_count": 17,
      "metadata": {
        "trusted": true
      },
      "outputs": [
        {
          "name": "stdout",
          "output_type": "stream",
          "text": [
            "This is the result fo the remainder: [0 1 2 3 1]\n"
          ]
        }
      ],
      "source": [
        "# Modulo or Remainder\n",
        "\n",
        "mod = np.mod(x, y)\n",
        "print(\"This is the result fo the remainder:\", mod)"
      ]
    },
    {
      "cell_type": "code",
      "execution_count": 2,
      "metadata": {
        "trusted": true
      },
      "outputs": [
        {
          "ename": "NameError",
          "evalue": "name 'np' is not defined",
          "output_type": "error",
          "traceback": [
            "\u001b[1;31m---------------------------------------------------------------------------\u001b[0m",
            "\u001b[1;31mNameError\u001b[0m                                 Traceback (most recent call last)",
            "Cell \u001b[1;32mIn [2], line 5\u001b[0m\n\u001b[0;32m      1\u001b[0m \u001b[39m# Quotient and Mod\u001b[39;00m\n\u001b[0;32m      2\u001b[0m \u001b[39m# Return both the remainder and the quotient for each element. \u001b[39;00m\n\u001b[0;32m      3\u001b[0m \u001b[39m# The return value consists of two arrays, the first of which holds the quotient and the second of which holds the mod.\u001b[39;00m\n\u001b[1;32m----> 5\u001b[0m quod \u001b[39m=\u001b[39m np\u001b[39m.\u001b[39mdivmod(x, y)\n\u001b[0;32m      6\u001b[0m \u001b[39mprint\u001b[39m(\u001b[39m\"\u001b[39m\u001b[39mThis is the result fo the quotient and mod\u001b[39m\u001b[39m\"\u001b[39m, quod)\n",
            "\u001b[1;31mNameError\u001b[0m: name 'np' is not defined"
          ]
        }
      ],
      "source": [
        "# Quotient and Mod\n",
        "# Return both the remainder and the quotient for each element. \n",
        "# The return value consists of two arrays, the first of which holds the quotient and the second of which holds the mod.\n",
        "\n",
        "quod = np.divmod(x, y)\n",
        "print(\"This is the result fo the quotient and mod\", quod)"
      ]
    },
    {
      "cell_type": "code",
      "execution_count": 1,
      "metadata": {
        "trusted": true
      },
      "outputs": [
        {
          "ename": "NameError",
          "evalue": "name 'np' is not defined",
          "output_type": "error",
          "traceback": [
            "\u001b[1;31m---------------------------------------------------------------------------\u001b[0m",
            "\u001b[1;31mNameError\u001b[0m                                 Traceback (most recent call last)",
            "Cell \u001b[1;32mIn [1], line 3\u001b[0m\n\u001b[0;32m      1\u001b[0m \u001b[39m# Calculate the absolute value\u001b[39;00m\n\u001b[1;32m----> 3\u001b[0m absol \u001b[39m=\u001b[39m np\u001b[39m.\u001b[39mabsolute(sample)\n\u001b[0;32m      4\u001b[0m \u001b[39mprint\u001b[39m(\u001b[39m\"\u001b[39m\u001b[39mThis is the result of the absolute values:\u001b[39m\u001b[39m\"\u001b[39m, absol)\n",
            "\u001b[1;31mNameError\u001b[0m: name 'np' is not defined"
          ]
        }
      ],
      "source": [
        "# Calculate the absolute value\n",
        "\n",
        "absol = np.absolute(sample)\n",
        "print(\"This is the result of the absolute values:\", absol)"
      ]
    }
  ],
  "metadata": {
    "kernelspec": {
      "display_name": "Python 3.10.7 64-bit",
      "language": "python",
      "name": "python3"
    },
    "language_info": {
      "codemirror_mode": {
        "name": "ipython",
        "version": 3
      },
      "file_extension": ".py",
      "mimetype": "text/x-python",
      "name": "python",
      "nbconvert_exporter": "python",
      "pygments_lexer": "ipython3",
      "version": "3.10.7"
    },
    "vscode": {
      "interpreter": {
        "hash": "26de051ba29f2982a8de78e945f0abaf191376122a1563185a90213a26c5da77"
      }
    }
  },
  "nbformat": 4,
  "nbformat_minor": 4
}
